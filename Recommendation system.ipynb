{
 "cells": [
  {
   "cell_type": "markdown",
   "metadata": {},
   "source": [
    "# Movie Recommendation System using Lightfm\n",
    "\n",
    "The purpose of a recommendation system is to suggest users something based on their interest or usage history.\n",
    "\n",
    "There are two types of recommendation systems. They are\n",
    "\n",
    "1. Content-Based Recommender System\n",
    "2. Collaborative Recommender System\n",
    "\n",
    "Content-Based Recommender System\n",
    "\n",
    "A content-based recommender system works on the data generated from a user.\n",
    "\n",
    "Collaborative Recommendation System\n",
    "\n",
    "A collaborative recommender system makes a recommendation based on how similar users liked the item. \n",
    "\n",
    "\n",
    "# LightFm\n",
    "\n",
    "LightFM is a Python implementation of a number of popular recommendation algorithms. LightFM includes implementations \n",
    "of BPR and WARP ranking losses.\n",
    "\n",
    "BPR: Bayesian Personalised Ranking pairwise loss\n",
    "\n",
    "WARP: Weighted Approximate-Rank Pairwise loss"
   ]
  },
  {
   "cell_type": "code",
   "execution_count": 10,
   "metadata": {},
   "outputs": [],
   "source": [
    "#Importing the libraries and lightfm dataset\n",
    "import pandas as pd\n",
    "import numpy as np\n",
    "from lightfm.datasets import fetch_movielens\n",
    "from lightfm import LightFM"
   ]
  },
  {
   "cell_type": "code",
   "execution_count": 12,
   "metadata": {},
   "outputs": [
    {
     "name": "stdout",
     "output_type": "stream",
     "text": [
      "<943x1682 sparse matrix of type '<class 'numpy.int32'>'\n",
      "\twith 49906 stored elements in COOrdinate format>\n",
      "<943x1682 sparse matrix of type '<class 'numpy.int32'>'\n",
      "\twith 5469 stored elements in COOrdinate format>\n"
     ]
    },
    {
     "data": {
      "text/plain": [
       "<lightfm.lightfm.LightFM at 0x7f89054a0a90>"
      ]
     },
     "execution_count": 12,
     "metadata": {},
     "output_type": "execute_result"
    }
   ],
   "source": [
    "#fetch data from model\n",
    "data = fetch_movielens(min_rating = 4.0)\n",
    "\n",
    "#print training and testing data\n",
    "print(repr(data['train']))\n",
    "print(repr(data['test']))\n",
    "\n",
    "#create model\n",
    "model = LightFM(loss = 'warp')\n",
    "\n",
    "#train mode\n",
    "model.fit(data['train'], epochs=30, num_threads=2)"
   ]
  },
  {
   "cell_type": "code",
   "execution_count": 15,
   "metadata": {},
   "outputs": [
    {
     "name": "stdout",
     "output_type": "stream",
     "text": [
      "User 81\n",
      "     Known positives:\n",
      "        Toy Story (1995)\n",
      "        Babe (1995)\n",
      "        Dead Man Walking (1995)\n",
      "     Recommended:\n",
      "        Star Wars (1977)\n",
      "        Amadeus (1984)\n",
      "        Raiders of the Lost Ark (1981)\n",
      "        Casablanca (1942)\n",
      "        Sting, The (1973)\n",
      "User 109\n",
      "     Known positives:\n",
      "        Seven (Se7en) (1995)\n",
      "        Usual Suspects, The (1995)\n",
      "        Braveheart (1995)\n",
      "     Recommended:\n",
      "        Braveheart (1995)\n",
      "        Fugitive, The (1993)\n",
      "        Speed (1994)\n",
      "        Rock, The (1996)\n",
      "        Raiders of the Lost Ark (1981)\n",
      "User 311\n",
      "     Known positives:\n",
      "        Toy Story (1995)\n",
      "        Babe (1995)\n",
      "        Richard III (1995)\n",
      "     Recommended:\n",
      "        African Queen, The (1951)\n",
      "        High Noon (1952)\n",
      "        Lawrence of Arabia (1962)\n",
      "        Casablanca (1942)\n",
      "        Vertigo (1958)\n",
      "User 400\n",
      "     Known positives:\n",
      "        Birdcage, The (1996)\n",
      "        Dolores Claiborne (1994)\n",
      "        What's Eating Gilbert Grape (1993)\n",
      "     Recommended:\n",
      "        Sense and Sensibility (1995)\n",
      "        Schindler's List (1993)\n",
      "        Star Wars (1977)\n",
      "        When Harry Met Sally... (1989)\n",
      "        Raiders of the Lost Ark (1981)\n",
      "User 422\n",
      "     Known positives:\n",
      "        Dead Man Walking (1995)\n",
      "        Richard III (1995)\n",
      "        Fargo (1996)\n",
      "     Recommended:\n",
      "        English Patient, The (1996)\n",
      "        Titanic (1997)\n",
      "        L.A. Confidential (1997)\n",
      "        Contact (1997)\n",
      "        Air Force One (1997)\n"
     ]
    }
   ],
   "source": [
    "#recommender fucntion\n",
    "def sample_recommendation(model, data, user_ids):\n",
    "    #number of users and movies in training data\n",
    "    n_users, n_items = data['train'].shape\n",
    "    for user_id in user_ids:\n",
    "    \t#movies they already like\n",
    "        known_positives = data['item_labels'][data['train'].tocsr()[user_id].indices]\n",
    "\n",
    "        #movies our model predicts they will like\n",
    "        scores = model.predict(user_id, np.arange(n_items))\n",
    "        #sort them in order of most liked to least\n",
    "        top_items = data['item_labels'][np.argsort(-scores)]\n",
    "        #print out the results\n",
    "        print(\"User %s\" % user_id)\n",
    "        print(\"     Known positives:\")\n",
    "\n",
    "        for x in known_positives[:3]:\n",
    "            print(\"        %s\" % x)\n",
    "\n",
    "        print(\"     Recommended:\")\n",
    "\n",
    "        for x in top_items[:5]:\n",
    "            print(\"        %s\" % x)\n",
    "            \n",
    "sample_recommendation(model, data, [81,109,311,400,422])"
   ]
  },
  {
   "cell_type": "code",
   "execution_count": null,
   "metadata": {},
   "outputs": [],
   "source": []
  }
 ],
 "metadata": {
  "kernelspec": {
   "display_name": "Python 3",
   "language": "python",
   "name": "python3"
  },
  "language_info": {
   "codemirror_mode": {
    "name": "ipython",
    "version": 3
   },
   "file_extension": ".py",
   "mimetype": "text/x-python",
   "name": "python",
   "nbconvert_exporter": "python",
   "pygments_lexer": "ipython3",
   "version": "3.7.3"
  }
 },
 "nbformat": 4,
 "nbformat_minor": 2
}
